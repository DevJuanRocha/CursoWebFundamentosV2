{
  "nbformat": 4,
  "nbformat_minor": 0,
  "metadata": {
    "colab": {
      "provenance": [],
      "mount_file_id": "1uiOTXdKXGSsrWWp-XzjuFQIbHeWYQ9lL",
      "authorship_tag": "ABX9TyOHQuroH3H+WYte92ZJMpsP",
      "include_colab_link": true
    },
    "kernelspec": {
      "name": "python3",
      "display_name": "Python 3"
    },
    "language_info": {
      "name": "python"
    }
  },
  "cells": [
    {
      "cell_type": "markdown",
      "metadata": {
        "id": "view-in-github",
        "colab_type": "text"
      },
      "source": [
        "<a href=\"https://colab.research.google.com/github/DevJuanRocha/CursoWebFundamentosV2/blob/main/aula1_20_08_2025.ipynb\" target=\"_parent\"><img src=\"https://colab.research.google.com/assets/colab-badge.svg\" alt=\"Open In Colab\"/></a>"
      ]
    },
    {
      "cell_type": "code",
      "execution_count": null,
      "metadata": {
        "id": "CHmRru7QLpz6"
      },
      "outputs": [],
      "source": [
        "#Aula da faculdade\n",
        "\n",
        "print('Boa aula')\n",
        "print('estamos testando como funciona o colab')\n",
        "name = input('Qual o seu nome? ')\n",
        "print(f'Olá prazer em conhece-lo,{name.title()}')\n",
        "idade = input('Qual a sua idade? ')\n",
        "print(f'Você tem {idade} anos')\n",
        "#O codigo acima pergunta o nome e idade, e o executa na tela.\n"
      ]
    },
    {
      "cell_type": "code",
      "source": [
        "#O codigo a seguir faz a conta de 2 numeros que você escolher\n",
        "numero_1 = int(input('Digite um numero: '))\n",
        "numero_2 = int(input('Digite outro numero: '))\n",
        "print(numero_1 + numero_2)\n",
        "print(numero_1 - numero_2)\n",
        "print(numero_1 * numero_2)\n",
        "print(numero_1 / numero_2)\n",
        "print(numero_1 % numero_2)\n",
        "print(numero_1 ** numero_2)"
      ],
      "metadata": {
        "id": "8amPoE1E0dM6"
      },
      "execution_count": null,
      "outputs": []
    },
    {
      "cell_type": "code",
      "source": [
        "numero_A = 23\n",
        "print(numero_A > 5)\n",
        "print(numero_A <=20)\n",
        "print(numero_A >=23)"
      ],
      "metadata": {
        "id": "rqsYUdMK8juk"
      },
      "execution_count": null,
      "outputs": []
    }
  ]
}